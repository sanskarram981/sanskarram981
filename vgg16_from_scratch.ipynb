{
  "nbformat": 4,
  "nbformat_minor": 0,
  "metadata": {
    "colab": {
      "name": "vgg16_from_scratch.ipynb",
      "provenance": [],
      "authorship_tag": "ABX9TyNl60cDsR4mbCkEW/CbHv1C",
      "include_colab_link": true
    },
    "kernelspec": {
      "name": "python3",
      "display_name": "Python 3"
    },
    "language_info": {
      "name": "python"
    },
    "accelerator": "GPU"
  },
  "cells": [
    {
      "cell_type": "markdown",
      "metadata": {
        "id": "view-in-github",
        "colab_type": "text"
      },
      "source": [
        "<a href=\"https://colab.research.google.com/github/sanskarram981/sanskarram981/blob/main/vgg16_from_scratch.ipynb\" target=\"_parent\"><img src=\"https://colab.research.google.com/assets/colab-badge.svg\" alt=\"Open In Colab\"/></a>"
      ]
    },
    {
      "cell_type": "code",
      "metadata": {
        "colab": {
          "base_uri": "https://localhost:8080/"
        },
        "id": "B1nCWfMsMIGs",
        "outputId": "a7dc58c7-e8c5-42aa-a676-8c08297726c2"
      },
      "source": [
        "pip install torch\n"
      ],
      "execution_count": 1,
      "outputs": [
        {
          "output_type": "stream",
          "text": [
            "Requirement already satisfied: torch in /usr/local/lib/python3.7/dist-packages (1.8.1+cu101)\n",
            "Requirement already satisfied: numpy in /usr/local/lib/python3.7/dist-packages (from torch) (1.19.5)\n",
            "Requirement already satisfied: typing-extensions in /usr/local/lib/python3.7/dist-packages (from torch) (3.7.4.3)\n"
          ],
          "name": "stdout"
        }
      ]
    },
    {
      "cell_type": "code",
      "metadata": {
        "colab": {
          "base_uri": "https://localhost:8080/"
        },
        "id": "I8LagZLzMVC5",
        "outputId": "894b45f8-4357-45a9-c7dc-980c9cf73612"
      },
      "source": [
        "pip install torchvision"
      ],
      "execution_count": 2,
      "outputs": [
        {
          "output_type": "stream",
          "text": [
            "Requirement already satisfied: torchvision in /usr/local/lib/python3.7/dist-packages (0.9.1+cu101)\n",
            "Requirement already satisfied: torch==1.8.1 in /usr/local/lib/python3.7/dist-packages (from torchvision) (1.8.1+cu101)\n",
            "Requirement already satisfied: numpy in /usr/local/lib/python3.7/dist-packages (from torchvision) (1.19.5)\n",
            "Requirement already satisfied: pillow>=4.1.1 in /usr/local/lib/python3.7/dist-packages (from torchvision) (7.1.2)\n",
            "Requirement already satisfied: typing-extensions in /usr/local/lib/python3.7/dist-packages (from torch==1.8.1->torchvision) (3.7.4.3)\n"
          ],
          "name": "stdout"
        }
      ]
    },
    {
      "cell_type": "code",
      "metadata": {
        "colab": {
          "base_uri": "https://localhost:8080/"
        },
        "id": "UEmcRj1hNaRR",
        "outputId": "2c6af731-0e95-41c9-e0e9-b5a996046048"
      },
      "source": [
        "pip install transforms"
      ],
      "execution_count": 3,
      "outputs": [
        {
          "output_type": "stream",
          "text": [
            "Collecting transforms\n",
            "  Downloading https://files.pythonhosted.org/packages/0d/b5/dcc6f54ba10a75f5a126d4b1ce2a05fd57a3e672c42461049bc083fcc7bd/transforms-0.1.tar.gz\n",
            "Building wheels for collected packages: transforms\n",
            "  Building wheel for transforms (setup.py) ... \u001b[?25l\u001b[?25hdone\n",
            "  Created wheel for transforms: filename=transforms-0.1-cp37-none-any.whl size=39350 sha256=73aaa9464bc6dd9faff52c3f494c570f2527310906d2dd4eee2a9fd6a273385e\n",
            "  Stored in directory: /root/.cache/pip/wheels/9a/37/f1/418005fb3d7a7587348cde9f4e44b7df3b3b9f4f37977cc5e8\n",
            "Successfully built transforms\n",
            "Installing collected packages: transforms\n",
            "Successfully installed transforms-0.1\n"
          ],
          "name": "stdout"
        }
      ]
    },
    {
      "cell_type": "code",
      "metadata": {
        "id": "80WmE0YJpJZN"
      },
      "source": [
        "import numpy as np\n",
        "import torch\n",
        "import torchvision\n",
        "import torchvision.transforms as transforms\n",
        "import torch.nn as nn\n",
        "import torch.nn.functional as F\n",
        "import torch.optim as optim\n",
        "import torch.optim.lr_scheduler as sch\n",
        "\n",
        "import torchvision.datasets as datasets\n",
        "import torchvision.models as models\n",
        "\n",
        "from PIL import Image\n",
        "import skimage\n",
        "import cv2\n",
        "\n",
        "import numpy as np\n",
        "import matplotlib.pyplot as plt\n"
      ],
      "execution_count": 4,
      "outputs": []
    },
    {
      "cell_type": "code",
      "metadata": {
        "id": "5SLGUPnOqmDJ"
      },
      "source": [
        "class vgg16(nn.Module):\n",
        "  def __init__(self,num_channels=3,num_classes=1000):\n",
        "    super(vgg16,self).__init__()\n",
        "\n",
        "    self.conv11 = nn.Conv2d(in_channels=num_channels,out_channels=64,kernel_size=(3,3),stride=(1,1),padding=1) #same conolution\n",
        "    self.relu11 = nn.ReLU()\n",
        "    self.conv12 = nn.Conv2d(in_channels=64,out_channels=64,kernel_size=(3,3),stride=(1,1),padding=1)\n",
        "    self.relu12 = nn.ReLU()\n",
        "    self.maxpool11 = nn.MaxPool2d(kernel_size=(2,2),stride=(2,2)) #valid convolution\n",
        "\n",
        "    self.conv21 = nn.Conv2d(in_channels=64,out_channels=128,kernel_size=(3,3),stride=(1,1),padding=1) #same conolution\n",
        "    self.relu21 = nn.ReLU()\n",
        "    self.conv22 = nn.Conv2d(in_channels=128,out_channels=128,kernel_size=(3,3),stride=(1,1),padding=1)\n",
        "    self.relu22 = nn.ReLU()\n",
        "    self.maxpool21 = nn.MaxPool2d(kernel_size=(2,2),stride=(2,2)) #valid convolution\n",
        "\n",
        "    self.conv31 = nn.Conv2d(in_channels=128,out_channels=256,kernel_size=(3,3),stride=(1,1),padding=1) #same conolution\n",
        "    self.relu31 = nn.ReLU()\n",
        "    self.conv32 = nn.Conv2d(in_channels=256,out_channels=256,kernel_size=(3,3),stride=(1,1),padding=1)\n",
        "    self.relu32 = nn.ReLU()\n",
        "    self.maxpool31 = nn.MaxPool2d(kernel_size=(2,2),stride=(2,2)) #valid convolution\n",
        "\n",
        "    self.conv41 = nn.Conv2d(in_channels=256,out_channels=512,kernel_size=(3,3),stride=(1,1),padding=1) #same conolution\n",
        "    self.relu41 = nn.ReLU()\n",
        "    self.conv42 = nn.Conv2d(in_channels=512,out_channels=512,kernel_size=(3,3),stride=(1,1),padding=1)\n",
        "    self.relu42 = nn.ReLU()\n",
        "    self.conv43 = nn.Conv2d(in_channels=512,out_channels=512,kernel_size=(3,3),stride=(1,1),padding=1)\n",
        "    self.relu43 = nn.ReLU()\n",
        "    self.maxpool41 = nn.MaxPool2d(kernel_size=(2,2),stride=(2,2)) #valid convolution\n",
        "\n",
        "    self.conv51 = nn.Conv2d(in_channels=512,out_channels=512,kernel_size=(3,3),stride=(1,1),padding=1) #same conolution\n",
        "    self.relu51 = nn.ReLU()\n",
        "    self.conv52 = nn.Conv2d(in_channels=512,out_channels=512,kernel_size=(3,3),stride=(1,1),padding=1)\n",
        "    self.relu52 = nn.ReLU()\n",
        "    self.conv53 = nn.Conv2d(in_channels=512,out_channels=512,kernel_size=(3,3),stride=(1,1),padding=1)\n",
        "    self.relu53 = nn.ReLU()\n",
        "    self.maxpool51 = nn.MaxPool2d(kernel_size=(2,2),stride=(2,2)) #valid convolution\n",
        "\n",
        "    self.fc1 = nn.Linear(in_features=512*7*7,out_features=4096)\n",
        "    self.rel1 = nn.ReLU()\n",
        "    self.fc2 = nn.Linear(in_features=4096,out_features=4096)\n",
        "    self.rel2 = nn.ReLU()\n",
        "    self.fc3 = nn.Linear(in_features=4096,out_features=num_classes)\n",
        "    self.softmax = nn.Softmax(dim=0)\n",
        "\n",
        "  def forward(self,x):\n",
        "    x = self.relu11(self.conv11(x))\n",
        "    x = self.relu12(self.conv12(x))\n",
        "    x = self.maxpool11(x)\n",
        "\n",
        "    x = self.relu21(self.conv21(x))\n",
        "    x = self.relu22(self.conv22(x))\n",
        "    x = self.maxpool21(x)\n",
        "\n",
        "    x = self.relu31(self.conv31(x))\n",
        "    x = self.relu32(self.conv32(x))\n",
        "    x = self.maxpool31(x)\n",
        "\n",
        "    x = self.relu41(self.conv41(x))\n",
        "    x = self.relu42(self.conv42(x))\n",
        "    x = self.relu43(self.conv43(x))\n",
        "    x = self.maxpool41(x)\n",
        "\n",
        "    x = self.relu51(self.conv51(x))\n",
        "    x = self.relu52(self.conv52(x))\n",
        "    x = self.relu53(self.conv53(x))\n",
        "    x = self.maxpool51(x)\n",
        "\n",
        "    x = x.flatten()\n",
        "\n",
        "    x = self.rel1(self.fc1(x))\n",
        "    x = self.rel2(self.fc2(x))\n",
        "    x = self.softmax(self.fc3(x))\n",
        "\n",
        "\n",
        "    return x"
      ],
      "execution_count": 14,
      "outputs": []
    },
    {
      "cell_type": "code",
      "metadata": {
        "id": "DtG7vyh-qmAb",
        "colab": {
          "base_uri": "https://localhost:8080/"
        },
        "outputId": "395229ef-8d57-4056-dea3-bb3fd02cae62"
      },
      "source": [
        "model = vgg16(num_classes=10).to(\"cuda\")\n",
        "model(torch.rand(1,3,224,224).to(\"cuda\"))"
      ],
      "execution_count": 19,
      "outputs": [
        {
          "output_type": "execute_result",
          "data": {
            "text/plain": [
              "tensor([0.1016, 0.1017, 0.0991, 0.0991, 0.1005, 0.0988, 0.1012, 0.0995, 0.0998,\n",
              "        0.0988], device='cuda:0', grad_fn=<SoftmaxBackward>)"
            ]
          },
          "metadata": {
            "tags": []
          },
          "execution_count": 19
        }
      ]
    },
    {
      "cell_type": "code",
      "metadata": {
        "id": "ecx_nfnbql9J"
      },
      "source": [
        ""
      ],
      "execution_count": 6,
      "outputs": []
    },
    {
      "cell_type": "code",
      "metadata": {
        "id": "5WirhlSGql56"
      },
      "source": [
        ""
      ],
      "execution_count": 6,
      "outputs": []
    }
  ]
}